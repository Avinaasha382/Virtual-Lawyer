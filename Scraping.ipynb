{
 "cells": [
  {
   "cell_type": "code",
   "execution_count": null,
   "metadata": {},
   "outputs": [
    {
     "name": "stderr",
     "output_type": "stream",
     "text": [
      " 48% (2222 of 4565) |#########           | Elapsed Time: 0:15:30 ETA:   0:16:20\n"
     ]
    },
    {
     "name": "stdout",
     "output_type": "stream",
     "text": [
      "\n",
      "Saved document 2022_2221...\n"
     ]
    },
    {
     "name": "stderr",
     "output_type": "stream",
     "text": [
      " 48% (2223 of 4565) |#########           | Elapsed Time: 0:15:31 ETA:   0:16:21\n"
     ]
    },
    {
     "name": "stdout",
     "output_type": "stream",
     "text": [
      "\n",
      "Saved document 2022_2222...\n"
     ]
    },
    {
     "name": "stderr",
     "output_type": "stream",
     "text": [
      " 48% (2224 of 4565) |#########           | Elapsed Time: 0:15:31 ETA:   0:16:20\n"
     ]
    },
    {
     "name": "stdout",
     "output_type": "stream",
     "text": [
      "\n",
      "Saved document 2022_2223...\n"
     ]
    },
    {
     "name": "stderr",
     "output_type": "stream",
     "text": [
      " 48% (2225 of 4565) |#########           | Elapsed Time: 0:15:32 ETA:   0:16:20\n"
     ]
    },
    {
     "name": "stdout",
     "output_type": "stream",
     "text": [
      "\n",
      "Saved document 2022_2224...\n"
     ]
    },
    {
     "name": "stderr",
     "output_type": "stream",
     "text": [
      " 48% (2226 of 4565) |#########           | Elapsed Time: 0:15:33 ETA:   0:16:21\n"
     ]
    },
    {
     "name": "stdout",
     "output_type": "stream",
     "text": [
      "\n",
      "Saved document 2022_2225...\n"
     ]
    },
    {
     "name": "stderr",
     "output_type": "stream",
     "text": [
      " 48% (2227 of 4565) |#########           | Elapsed Time: 0:15:34 ETA:   0:16:20\n"
     ]
    },
    {
     "name": "stdout",
     "output_type": "stream",
     "text": [
      "\n",
      "Saved document 2022_2226...\n"
     ]
    },
    {
     "name": "stderr",
     "output_type": "stream",
     "text": [
      " 48% (2228 of 4565) |#########           | Elapsed Time: 0:15:35 ETA:   0:16:20\n"
     ]
    },
    {
     "name": "stdout",
     "output_type": "stream",
     "text": [
      "\n",
      "Saved document 2022_2227...\n"
     ]
    },
    {
     "name": "stderr",
     "output_type": "stream",
     "text": [
      " 48% (2229 of 4565) |#########           | Elapsed Time: 0:15:35 ETA:   0:16:20\n"
     ]
    },
    {
     "name": "stdout",
     "output_type": "stream",
     "text": [
      "\n",
      "Saved document 2022_2228...\n"
     ]
    },
    {
     "name": "stderr",
     "output_type": "stream",
     "text": [
      " 48% (2230 of 4565) |#########           | Elapsed Time: 0:15:36 ETA:   0:16:20\n"
     ]
    },
    {
     "name": "stdout",
     "output_type": "stream",
     "text": [
      "\n",
      "Saved document 2022_2229...\n"
     ]
    },
    {
     "name": "stderr",
     "output_type": "stream",
     "text": [
      " 48% (2231 of 4565) |#########           | Elapsed Time: 0:15:37 ETA:   0:16:20\n"
     ]
    },
    {
     "name": "stdout",
     "output_type": "stream",
     "text": [
      "\n",
      "Saved document 2022_2230...\n"
     ]
    },
    {
     "name": "stderr",
     "output_type": "stream",
     "text": [
      " 48% (2232 of 4565) |#########           | Elapsed Time: 0:15:38 ETA:   0:16:20\n"
     ]
    },
    {
     "name": "stdout",
     "output_type": "stream",
     "text": [
      "\n",
      "Saved document 2022_2231...\n"
     ]
    },
    {
     "name": "stderr",
     "output_type": "stream",
     "text": [
      " 48% (2233 of 4565) |#########           | Elapsed Time: 0:15:38 ETA:   0:16:20\n"
     ]
    },
    {
     "name": "stdout",
     "output_type": "stream",
     "text": [
      "\n",
      "Saved document 2022_2232...\n"
     ]
    },
    {
     "name": "stderr",
     "output_type": "stream",
     "text": [
      " 48% (2234 of 4565) |#########           | Elapsed Time: 0:15:39 ETA:   0:16:20\n"
     ]
    },
    {
     "name": "stdout",
     "output_type": "stream",
     "text": [
      "\n",
      "Saved document 2022_2233...\n"
     ]
    },
    {
     "name": "stderr",
     "output_type": "stream",
     "text": [
      " 48% (2235 of 4565) |#########           | Elapsed Time: 0:15:41 ETA:   0:16:21\n"
     ]
    },
    {
     "name": "stdout",
     "output_type": "stream",
     "text": [
      "\n",
      "Saved document 2022_2234...\n"
     ]
    },
    {
     "name": "stderr",
     "output_type": "stream",
     "text": [
      " 48% (2236 of 4565) |#########           | Elapsed Time: 0:15:41 ETA:   0:16:20\n"
     ]
    },
    {
     "name": "stdout",
     "output_type": "stream",
     "text": [
      "\n",
      "Saved document 2022_2235...\n"
     ]
    },
    {
     "name": "stderr",
     "output_type": "stream",
     "text": [
      " 49% (2237 of 4565) |#########           | Elapsed Time: 0:15:42 ETA:   0:16:20\n"
     ]
    },
    {
     "name": "stdout",
     "output_type": "stream",
     "text": [
      "\n",
      "Saved document 2022_2236...\n"
     ]
    },
    {
     "name": "stderr",
     "output_type": "stream",
     "text": [
      " 49% (2238 of 4565) |#########           | Elapsed Time: 0:15:43 ETA:   0:16:21\n"
     ]
    },
    {
     "name": "stdout",
     "output_type": "stream",
     "text": [
      "\n",
      "Saved document 2022_2237...\n"
     ]
    },
    {
     "name": "stderr",
     "output_type": "stream",
     "text": [
      " 49% (2239 of 4565) |#########           | Elapsed Time: 0:15:44 ETA:   0:16:20\n"
     ]
    },
    {
     "name": "stdout",
     "output_type": "stream",
     "text": [
      "\n",
      "Saved document 2022_2238...\n"
     ]
    },
    {
     "name": "stderr",
     "output_type": "stream",
     "text": [
      " 49% (2240 of 4565) |#########           | Elapsed Time: 0:15:45 ETA:   0:16:21\n"
     ]
    },
    {
     "name": "stdout",
     "output_type": "stream",
     "text": [
      "\n",
      "Saved document 2022_2239...\n"
     ]
    },
    {
     "name": "stderr",
     "output_type": "stream",
     "text": [
      " 49% (2241 of 4565) |#########           | Elapsed Time: 0:15:45 ETA:   0:16:20\n"
     ]
    },
    {
     "name": "stdout",
     "output_type": "stream",
     "text": [
      "\n",
      "Saved document 2022_2240...\n"
     ]
    },
    {
     "name": "stderr",
     "output_type": "stream",
     "text": [
      " 49% (2242 of 4565) |#########           | Elapsed Time: 0:15:46 ETA:   0:16:20\n"
     ]
    },
    {
     "name": "stdout",
     "output_type": "stream",
     "text": [
      "\n",
      "Saved document 2022_2241...\n",
      "HTTP 429 Too Many Requests. Retrying...\n"
     ]
    },
    {
     "name": "stderr",
     "output_type": "stream",
     "text": [
      " 49% (2243 of 4565) |#########           | Elapsed Time: 0:15:57 ETA:   0:16:31\n"
     ]
    },
    {
     "name": "stdout",
     "output_type": "stream",
     "text": [
      "\n",
      "Saved document 2022_2242...\n"
     ]
    },
    {
     "name": "stderr",
     "output_type": "stream",
     "text": [
      " 49% (2244 of 4565) |#########           | Elapsed Time: 0:15:57 ETA:   0:16:30\n"
     ]
    },
    {
     "name": "stdout",
     "output_type": "stream",
     "text": [
      "\n",
      "Saved document 2022_2243...\n"
     ]
    },
    {
     "name": "stderr",
     "output_type": "stream",
     "text": [
      " 49% (2245 of 4565) |#########           | Elapsed Time: 0:15:58 ETA:   0:16:30\n"
     ]
    },
    {
     "name": "stdout",
     "output_type": "stream",
     "text": [
      "\n",
      "Saved document 2022_2244...\n"
     ]
    },
    {
     "name": "stderr",
     "output_type": "stream",
     "text": [
      " 49% (2246 of 4565) |#########           | Elapsed Time: 0:16:00 ETA:   0:16:31\n"
     ]
    },
    {
     "name": "stdout",
     "output_type": "stream",
     "text": [
      "\n",
      "Saved document 2022_2245...\n"
     ]
    },
    {
     "name": "stderr",
     "output_type": "stream",
     "text": [
      " 49% (2247 of 4565) |#########           | Elapsed Time: 0:16:02 ETA:   0:16:32\n"
     ]
    },
    {
     "name": "stdout",
     "output_type": "stream",
     "text": [
      "\n",
      "Saved document 2022_2246...\n"
     ]
    },
    {
     "name": "stderr",
     "output_type": "stream",
     "text": [
      " 49% (2248 of 4565) |#########           | Elapsed Time: 0:16:02 ETA:   0:16:32\n"
     ]
    },
    {
     "name": "stdout",
     "output_type": "stream",
     "text": [
      "\n",
      "Saved document 2022_2247...\n"
     ]
    },
    {
     "name": "stderr",
     "output_type": "stream",
     "text": [
      " 49% (2249 of 4565) |#########           | Elapsed Time: 0:16:04 ETA:   0:16:32\n"
     ]
    },
    {
     "name": "stdout",
     "output_type": "stream",
     "text": [
      "\n",
      "Saved document 2022_2248...\n"
     ]
    },
    {
     "name": "stderr",
     "output_type": "stream",
     "text": [
      " 49% (2250 of 4565) |#########           | Elapsed Time: 0:16:04 ETA:   0:16:32\n"
     ]
    },
    {
     "name": "stdout",
     "output_type": "stream",
     "text": [
      "\n",
      "Saved document 2022_2249...\n"
     ]
    },
    {
     "name": "stderr",
     "output_type": "stream",
     "text": [
      " 49% (2251 of 4565) |#########           | Elapsed Time: 0:16:06 ETA:   0:16:33\n"
     ]
    },
    {
     "name": "stdout",
     "output_type": "stream",
     "text": [
      "\n",
      "Saved document 2022_2250...\n"
     ]
    },
    {
     "name": "stderr",
     "output_type": "stream",
     "text": [
      " 49% (2252 of 4565) |#########           | Elapsed Time: 0:16:08 ETA:   0:16:34\n"
     ]
    },
    {
     "name": "stdout",
     "output_type": "stream",
     "text": [
      "\n",
      "Saved document 2022_2251...\n"
     ]
    },
    {
     "name": "stderr",
     "output_type": "stream",
     "text": [
      " 49% (2253 of 4565) |#########           | Elapsed Time: 0:16:09 ETA:   0:16:34\n"
     ]
    },
    {
     "name": "stdout",
     "output_type": "stream",
     "text": [
      "\n",
      "Saved document 2022_2252...\n"
     ]
    },
    {
     "name": "stderr",
     "output_type": "stream",
     "text": [
      " 49% (2254 of 4565) |#########           | Elapsed Time: 0:16:09 ETA:   0:16:34\n"
     ]
    },
    {
     "name": "stdout",
     "output_type": "stream",
     "text": [
      "\n",
      "Saved document 2022_2253...\n"
     ]
    },
    {
     "name": "stderr",
     "output_type": "stream",
     "text": [
      " 49% (2255 of 4565) |#########           | Elapsed Time: 0:16:10 ETA:   0:16:34\n"
     ]
    },
    {
     "name": "stdout",
     "output_type": "stream",
     "text": [
      "\n",
      "Saved document 2022_2254...\n"
     ]
    },
    {
     "name": "stderr",
     "output_type": "stream",
     "text": [
      " 49% (2256 of 4565) |#########           | Elapsed Time: 0:16:11 ETA:   0:16:34\n"
     ]
    },
    {
     "name": "stdout",
     "output_type": "stream",
     "text": [
      "\n",
      "Saved document 2022_2255...\n"
     ]
    },
    {
     "name": "stderr",
     "output_type": "stream",
     "text": [
      " 49% (2257 of 4565) |#########           | Elapsed Time: 0:16:12 ETA:   0:16:34\n"
     ]
    },
    {
     "name": "stdout",
     "output_type": "stream",
     "text": [
      "\n",
      "Saved document 2022_2256...\n"
     ]
    },
    {
     "name": "stderr",
     "output_type": "stream",
     "text": [
      " 49% (2258 of 4565) |#########           | Elapsed Time: 0:16:13 ETA:   0:16:34\n"
     ]
    },
    {
     "name": "stdout",
     "output_type": "stream",
     "text": [
      "\n",
      "Saved document 2022_2257...\n"
     ]
    },
    {
     "name": "stderr",
     "output_type": "stream",
     "text": [
      " 49% (2259 of 4565) |#########           | Elapsed Time: 0:16:14 ETA:   0:16:34\n"
     ]
    },
    {
     "name": "stdout",
     "output_type": "stream",
     "text": [
      "\n",
      "Saved document 2022_2258...\n"
     ]
    },
    {
     "name": "stderr",
     "output_type": "stream",
     "text": [
      " 49% (2260 of 4565) |#########           | Elapsed Time: 0:16:14 ETA:   0:16:34\n"
     ]
    },
    {
     "name": "stdout",
     "output_type": "stream",
     "text": [
      "\n",
      "Saved document 2022_2259...\n"
     ]
    },
    {
     "name": "stderr",
     "output_type": "stream",
     "text": [
      " 49% (2261 of 4565) |#########           | Elapsed Time: 0:16:15 ETA:   0:16:34\n"
     ]
    },
    {
     "name": "stdout",
     "output_type": "stream",
     "text": [
      "\n",
      "Saved document 2022_2260...\n"
     ]
    },
    {
     "name": "stderr",
     "output_type": "stream",
     "text": [
      " 49% (2262 of 4565) |#########           | Elapsed Time: 0:16:18 ETA:   0:16:36\n"
     ]
    },
    {
     "name": "stdout",
     "output_type": "stream",
     "text": [
      "\n",
      "Saved document 2022_2261...\n"
     ]
    },
    {
     "name": "stderr",
     "output_type": "stream",
     "text": [
      " 49% (2263 of 4565) |#########           | Elapsed Time: 0:16:18 ETA:   0:16:35\n"
     ]
    },
    {
     "name": "stdout",
     "output_type": "stream",
     "text": [
      "\n",
      "Saved document 2022_2262...\n"
     ]
    },
    {
     "name": "stderr",
     "output_type": "stream",
     "text": [
      " 49% (2264 of 4565) |#########           | Elapsed Time: 0:16:19 ETA:   0:16:35\n"
     ]
    },
    {
     "name": "stdout",
     "output_type": "stream",
     "text": [
      "\n",
      "Saved document 2022_2263...\n"
     ]
    },
    {
     "name": "stderr",
     "output_type": "stream",
     "text": [
      " 49% (2265 of 4565) |#########           | Elapsed Time: 0:16:20 ETA:   0:16:35\n"
     ]
    },
    {
     "name": "stdout",
     "output_type": "stream",
     "text": [
      "\n",
      "Saved document 2022_2264...\n"
     ]
    },
    {
     "name": "stderr",
     "output_type": "stream",
     "text": [
      " 49% (2266 of 4565) |#########           | Elapsed Time: 0:16:22 ETA:   0:16:36\n"
     ]
    },
    {
     "name": "stdout",
     "output_type": "stream",
     "text": [
      "\n",
      "Saved document 2022_2265...\n"
     ]
    },
    {
     "name": "stderr",
     "output_type": "stream",
     "text": [
      " 49% (2267 of 4565) |#########           | Elapsed Time: 0:16:22 ETA:   0:16:36\n"
     ]
    },
    {
     "name": "stdout",
     "output_type": "stream",
     "text": [
      "\n",
      "Saved document 2022_2266...\n"
     ]
    },
    {
     "name": "stderr",
     "output_type": "stream",
     "text": [
      " 49% (2268 of 4565) |#########           | Elapsed Time: 0:16:23 ETA:   0:16:36\n"
     ]
    },
    {
     "name": "stdout",
     "output_type": "stream",
     "text": [
      "\n",
      "Saved document 2022_2267...\n"
     ]
    },
    {
     "name": "stderr",
     "output_type": "stream",
     "text": [
      " 49% (2269 of 4565) |#########           | Elapsed Time: 0:16:24 ETA:   0:16:36\n"
     ]
    },
    {
     "name": "stdout",
     "output_type": "stream",
     "text": [
      "\n",
      "Saved document 2022_2268...\n"
     ]
    },
    {
     "name": "stderr",
     "output_type": "stream",
     "text": [
      " 49% (2270 of 4565) |#########           | Elapsed Time: 0:16:25 ETA:   0:16:35\n"
     ]
    },
    {
     "name": "stdout",
     "output_type": "stream",
     "text": [
      "\n",
      "Saved document 2022_2269...\n"
     ]
    },
    {
     "name": "stderr",
     "output_type": "stream",
     "text": [
      " 49% (2271 of 4565) |#########           | Elapsed Time: 0:16:26 ETA:   0:16:36\n"
     ]
    },
    {
     "name": "stdout",
     "output_type": "stream",
     "text": [
      "\n",
      "Saved document 2022_2270...\n"
     ]
    },
    {
     "name": "stderr",
     "output_type": "stream",
     "text": [
      " 49% (2272 of 4565) |#########           | Elapsed Time: 0:16:27 ETA:   0:16:36\n"
     ]
    },
    {
     "name": "stdout",
     "output_type": "stream",
     "text": [
      "\n",
      "Saved document 2022_2271...\n"
     ]
    },
    {
     "name": "stderr",
     "output_type": "stream",
     "text": [
      " 49% (2273 of 4565) |#########           | Elapsed Time: 0:16:28 ETA:   0:16:36\n"
     ]
    },
    {
     "name": "stdout",
     "output_type": "stream",
     "text": [
      "\n",
      "Saved document 2022_2272...\n"
     ]
    },
    {
     "name": "stderr",
     "output_type": "stream",
     "text": [
      " 49% (2274 of 4565) |#########           | Elapsed Time: 0:16:29 ETA:   0:16:37\n"
     ]
    },
    {
     "name": "stdout",
     "output_type": "stream",
     "text": [
      "\n",
      "Saved document 2022_2273...\n"
     ]
    },
    {
     "name": "stderr",
     "output_type": "stream",
     "text": [
      " 49% (2275 of 4565) |#########           | Elapsed Time: 0:16:30 ETA:   0:16:36\n"
     ]
    },
    {
     "name": "stdout",
     "output_type": "stream",
     "text": [
      "\n",
      "Saved document 2022_2274...\n",
      "HTTP 429 Too Many Requests. Retrying...\n"
     ]
    },
    {
     "name": "stderr",
     "output_type": "stream",
     "text": [
      " 49% (2276 of 4565) |#########           | Elapsed Time: 0:16:41 ETA:   0:16:47\n"
     ]
    },
    {
     "name": "stdout",
     "output_type": "stream",
     "text": [
      "\n",
      "Saved document 2022_2275...\n"
     ]
    },
    {
     "name": "stderr",
     "output_type": "stream",
     "text": [
      " 49% (2277 of 4565) |#########           | Elapsed Time: 0:16:42 ETA:   0:16:47\n"
     ]
    },
    {
     "name": "stdout",
     "output_type": "stream",
     "text": [
      "\n",
      "Saved document 2022_2276...\n"
     ]
    },
    {
     "name": "stderr",
     "output_type": "stream",
     "text": [
      " 49% (2278 of 4565) |#########           | Elapsed Time: 0:16:43 ETA:   0:16:47\n"
     ]
    },
    {
     "name": "stdout",
     "output_type": "stream",
     "text": [
      "\n",
      "Saved document 2022_2277...\n"
     ]
    },
    {
     "name": "stderr",
     "output_type": "stream",
     "text": [
      " 49% (2279 of 4565) |#########           | Elapsed Time: 0:16:44 ETA:   0:16:47\n"
     ]
    },
    {
     "name": "stdout",
     "output_type": "stream",
     "text": [
      "\n",
      "Saved document 2022_2278...\n"
     ]
    },
    {
     "name": "stderr",
     "output_type": "stream",
     "text": [
      " 49% (2280 of 4565) |#########           | Elapsed Time: 0:16:45 ETA:   0:16:47\n"
     ]
    },
    {
     "name": "stdout",
     "output_type": "stream",
     "text": [
      "\n",
      "Saved document 2022_2279...\n"
     ]
    },
    {
     "name": "stderr",
     "output_type": "stream",
     "text": [
      " 49% (2281 of 4565) |#########           | Elapsed Time: 0:16:46 ETA:   0:16:47\n"
     ]
    },
    {
     "name": "stdout",
     "output_type": "stream",
     "text": [
      "\n",
      "Saved document 2022_2280...\n"
     ]
    },
    {
     "name": "stderr",
     "output_type": "stream",
     "text": [
      " 49% (2282 of 4565) |#########           | Elapsed Time: 0:16:46 ETA:   0:16:47\n"
     ]
    },
    {
     "name": "stdout",
     "output_type": "stream",
     "text": [
      "\n",
      "Saved document 2022_2281...\n"
     ]
    },
    {
     "name": "stderr",
     "output_type": "stream",
     "text": [
      " 50% (2283 of 4565) |##########          | Elapsed Time: 0:16:47 ETA:   0:16:47\n"
     ]
    },
    {
     "name": "stdout",
     "output_type": "stream",
     "text": [
      "\n",
      "Saved document 2022_2282...\n"
     ]
    },
    {
     "name": "stderr",
     "output_type": "stream",
     "text": [
      " 50% (2284 of 4565) |##########          | Elapsed Time: 0:16:48 ETA:   0:16:47\n"
     ]
    },
    {
     "name": "stdout",
     "output_type": "stream",
     "text": [
      "\n",
      "Saved document 2022_2283...\n"
     ]
    },
    {
     "name": "stderr",
     "output_type": "stream",
     "text": [
      " 50% (2285 of 4565) |##########          | Elapsed Time: 0:16:50 ETA:   0:16:48\n"
     ]
    },
    {
     "name": "stdout",
     "output_type": "stream",
     "text": [
      "\n",
      "Saved document 2022_2284...\n"
     ]
    },
    {
     "name": "stderr",
     "output_type": "stream",
     "text": [
      " 50% (2286 of 4565) |##########          | Elapsed Time: 0:16:51 ETA:   0:16:48\n"
     ]
    },
    {
     "name": "stdout",
     "output_type": "stream",
     "text": [
      "\n",
      "Saved document 2022_2285...\n"
     ]
    },
    {
     "name": "stderr",
     "output_type": "stream",
     "text": [
      " 50% (2287 of 4565) |##########          | Elapsed Time: 0:16:52 ETA:   0:16:48\n"
     ]
    },
    {
     "name": "stdout",
     "output_type": "stream",
     "text": [
      "\n",
      "Saved document 2022_2286...\n"
     ]
    },
    {
     "name": "stderr",
     "output_type": "stream",
     "text": [
      " 50% (2288 of 4565) |##########          | Elapsed Time: 0:16:52 ETA:   0:16:47\n"
     ]
    },
    {
     "name": "stdout",
     "output_type": "stream",
     "text": [
      "\n",
      "Saved document 2022_2287...\n"
     ]
    },
    {
     "name": "stderr",
     "output_type": "stream",
     "text": [
      " 50% (2289 of 4565) |##########          | Elapsed Time: 0:16:54 ETA:   0:16:48\n"
     ]
    },
    {
     "name": "stdout",
     "output_type": "stream",
     "text": [
      "\n",
      "Saved document 2022_2288...\n"
     ]
    },
    {
     "name": "stderr",
     "output_type": "stream",
     "text": [
      " 50% (2290 of 4565) |##########          | Elapsed Time: 0:16:54 ETA:   0:16:48\n"
     ]
    },
    {
     "name": "stdout",
     "output_type": "stream",
     "text": [
      "\n",
      "Saved document 2022_2289...\n"
     ]
    },
    {
     "name": "stderr",
     "output_type": "stream",
     "text": [
      " 50% (2291 of 4565) |##########          | Elapsed Time: 0:16:55 ETA:   0:16:47\n"
     ]
    },
    {
     "name": "stdout",
     "output_type": "stream",
     "text": [
      "\n",
      "Saved document 2022_2290...\n"
     ]
    },
    {
     "name": "stderr",
     "output_type": "stream",
     "text": [
      " 50% (2292 of 4565) |##########          | Elapsed Time: 0:16:56 ETA:   0:16:47\n"
     ]
    },
    {
     "name": "stdout",
     "output_type": "stream",
     "text": [
      "\n",
      "Saved document 2022_2291...\n"
     ]
    },
    {
     "name": "stderr",
     "output_type": "stream",
     "text": [
      " 50% (2293 of 4565) |##########          | Elapsed Time: 0:16:56 ETA:   0:16:47\n"
     ]
    },
    {
     "name": "stdout",
     "output_type": "stream",
     "text": [
      "\n",
      "Saved document 2022_2292...\n"
     ]
    },
    {
     "name": "stderr",
     "output_type": "stream",
     "text": [
      " 50% (2294 of 4565) |##########          | Elapsed Time: 0:16:57 ETA:   0:16:46\n"
     ]
    },
    {
     "name": "stdout",
     "output_type": "stream",
     "text": [
      "\n",
      "Saved document 2022_2293...\n"
     ]
    },
    {
     "name": "stderr",
     "output_type": "stream",
     "text": [
      " 50% (2295 of 4565) |##########          | Elapsed Time: 0:16:57 ETA:   0:16:46\n"
     ]
    },
    {
     "name": "stdout",
     "output_type": "stream",
     "text": [
      "\n",
      "Saved document 2022_2294...\n"
     ]
    },
    {
     "name": "stderr",
     "output_type": "stream",
     "text": [
      " 50% (2296 of 4565) |##########          | Elapsed Time: 0:16:58 ETA:   0:16:46\n"
     ]
    },
    {
     "name": "stdout",
     "output_type": "stream",
     "text": [
      "\n",
      "Saved document 2022_2295...\n",
      "HTTP 429 Too Many Requests. Retrying...\n"
     ]
    },
    {
     "name": "stderr",
     "output_type": "stream",
     "text": [
      " 50% (2297 of 4565) |##########          | Elapsed Time: 0:17:09 ETA:   0:16:56\n"
     ]
    },
    {
     "name": "stdout",
     "output_type": "stream",
     "text": [
      "\n",
      "Saved document 2022_2296...\n"
     ]
    },
    {
     "name": "stderr",
     "output_type": "stream",
     "text": [
      " 50% (2298 of 4565) |##########          | Elapsed Time: 0:17:10 ETA:   0:16:56\n"
     ]
    },
    {
     "name": "stdout",
     "output_type": "stream",
     "text": [
      "\n",
      "Saved document 2022_2297...\n"
     ]
    },
    {
     "name": "stderr",
     "output_type": "stream",
     "text": [
      " 50% (2299 of 4565) |##########          | Elapsed Time: 0:17:11 ETA:   0:16:56\n"
     ]
    },
    {
     "name": "stdout",
     "output_type": "stream",
     "text": [
      "\n",
      "Saved document 2022_2298...\n"
     ]
    },
    {
     "name": "stderr",
     "output_type": "stream",
     "text": [
      " 50% (2300 of 4565) |##########          | Elapsed Time: 0:17:11 ETA:   0:16:55\n"
     ]
    },
    {
     "name": "stdout",
     "output_type": "stream",
     "text": [
      "\n",
      "Saved document 2022_2299...\n"
     ]
    },
    {
     "name": "stderr",
     "output_type": "stream",
     "text": [
      " 50% (2301 of 4565) |##########          | Elapsed Time: 0:17:12 ETA:   0:16:55\n"
     ]
    },
    {
     "name": "stdout",
     "output_type": "stream",
     "text": [
      "\n",
      "Saved document 2022_2300...\n"
     ]
    },
    {
     "name": "stderr",
     "output_type": "stream",
     "text": [
      " 50% (2302 of 4565) |##########          | Elapsed Time: 0:17:13 ETA:   0:16:55\n"
     ]
    },
    {
     "name": "stdout",
     "output_type": "stream",
     "text": [
      "\n",
      "Saved document 2022_2301...\n"
     ]
    },
    {
     "name": "stderr",
     "output_type": "stream",
     "text": [
      " 50% (2303 of 4565) |##########          | Elapsed Time: 0:17:15 ETA:   0:16:57\n"
     ]
    },
    {
     "name": "stdout",
     "output_type": "stream",
     "text": [
      "\n",
      "Saved document 2022_2302...\n"
     ]
    },
    {
     "name": "stderr",
     "output_type": "stream",
     "text": [
      " 50% (2304 of 4565) |##########          | Elapsed Time: 0:17:16 ETA:   0:16:56\n"
     ]
    },
    {
     "name": "stdout",
     "output_type": "stream",
     "text": [
      "\n",
      "Saved document 2022_2303...\n"
     ]
    },
    {
     "name": "stderr",
     "output_type": "stream",
     "text": [
      " 50% (2305 of 4565) |##########          | Elapsed Time: 0:17:17 ETA:   0:16:56\n"
     ]
    },
    {
     "name": "stdout",
     "output_type": "stream",
     "text": [
      "\n",
      "Saved document 2022_2304...\n"
     ]
    },
    {
     "name": "stderr",
     "output_type": "stream",
     "text": [
      " 50% (2306 of 4565) |##########          | Elapsed Time: 0:17:17 ETA:   0:16:56\n"
     ]
    },
    {
     "name": "stdout",
     "output_type": "stream",
     "text": [
      "\n",
      "Saved document 2022_2305...\n"
     ]
    },
    {
     "name": "stderr",
     "output_type": "stream",
     "text": [
      " 50% (2307 of 4565) |##########          | Elapsed Time: 0:17:17 ETA:   0:16:55\n"
     ]
    },
    {
     "name": "stdout",
     "output_type": "stream",
     "text": [
      "\n",
      "Saved document 2022_2306...\n"
     ]
    },
    {
     "name": "stderr",
     "output_type": "stream",
     "text": [
      " 50% (2308 of 4565) |##########          | Elapsed Time: 0:17:18 ETA:   0:16:55\n"
     ]
    },
    {
     "name": "stdout",
     "output_type": "stream",
     "text": [
      "\n",
      "Saved document 2022_2307...\n"
     ]
    },
    {
     "name": "stderr",
     "output_type": "stream",
     "text": [
      " 50% (2309 of 4565) |##########          | Elapsed Time: 0:17:19 ETA:   0:16:55\n"
     ]
    },
    {
     "name": "stdout",
     "output_type": "stream",
     "text": [
      "\n",
      "Saved document 2022_2308...\n"
     ]
    },
    {
     "name": "stderr",
     "output_type": "stream",
     "text": [
      " 50% (2310 of 4565) |##########          | Elapsed Time: 0:17:20 ETA:   0:16:55\n"
     ]
    },
    {
     "name": "stdout",
     "output_type": "stream",
     "text": [
      "\n",
      "Saved document 2022_2309...\n"
     ]
    },
    {
     "name": "stderr",
     "output_type": "stream",
     "text": [
      " 50% (2311 of 4565) |##########          | Elapsed Time: 0:17:21 ETA:   0:16:55\n"
     ]
    },
    {
     "name": "stdout",
     "output_type": "stream",
     "text": [
      "\n",
      "Saved document 2022_2310...\n"
     ]
    },
    {
     "name": "stderr",
     "output_type": "stream",
     "text": [
      " 50% (2312 of 4565) |##########          | Elapsed Time: 0:17:22 ETA:   0:16:56\n"
     ]
    },
    {
     "name": "stdout",
     "output_type": "stream",
     "text": [
      "\n",
      "Saved document 2022_2311...\n"
     ]
    },
    {
     "name": "stderr",
     "output_type": "stream",
     "text": [
      " 50% (2313 of 4565) |##########          | Elapsed Time: 0:17:23 ETA:   0:16:55\n"
     ]
    },
    {
     "name": "stdout",
     "output_type": "stream",
     "text": [
      "\n",
      "Saved document 2022_2312...\n"
     ]
    },
    {
     "name": "stderr",
     "output_type": "stream",
     "text": [
      " 50% (2314 of 4565) |##########          | Elapsed Time: 0:17:24 ETA:   0:16:55\n"
     ]
    },
    {
     "name": "stdout",
     "output_type": "stream",
     "text": [
      "\n",
      "Saved document 2022_2313...\n"
     ]
    },
    {
     "name": "stderr",
     "output_type": "stream",
     "text": [
      " 50% (2315 of 4565) |##########          | Elapsed Time: 0:17:26 ETA:   0:16:56\n"
     ]
    },
    {
     "name": "stdout",
     "output_type": "stream",
     "text": [
      "\n",
      "Saved document 2022_2314...\n"
     ]
    },
    {
     "name": "stderr",
     "output_type": "stream",
     "text": [
      " 50% (2316 of 4565) |##########          | Elapsed Time: 0:17:27 ETA:   0:16:57\n"
     ]
    },
    {
     "name": "stdout",
     "output_type": "stream",
     "text": [
      "\n",
      "Saved document 2022_2315...\n"
     ]
    },
    {
     "name": "stderr",
     "output_type": "stream",
     "text": [
      " 50% (2317 of 4565) |##########          | Elapsed Time: 0:17:28 ETA:   0:16:57\n"
     ]
    },
    {
     "name": "stdout",
     "output_type": "stream",
     "text": [
      "\n",
      "Saved document 2022_2316...\n"
     ]
    },
    {
     "name": "stderr",
     "output_type": "stream",
     "text": [
      " 50% (2318 of 4565) |##########          | Elapsed Time: 0:17:29 ETA:   0:16:57\n"
     ]
    },
    {
     "name": "stdout",
     "output_type": "stream",
     "text": [
      "\n",
      "Saved document 2022_2317...\n"
     ]
    },
    {
     "name": "stderr",
     "output_type": "stream",
     "text": [
      " 50% (2319 of 4565) |##########          | Elapsed Time: 0:17:30 ETA:   0:16:57\n"
     ]
    },
    {
     "name": "stdout",
     "output_type": "stream",
     "text": [
      "\n",
      "Saved document 2022_2318...\n",
      "HTTP 429 Too Many Requests. Retrying...\n"
     ]
    },
    {
     "name": "stderr",
     "output_type": "stream",
     "text": [
      " 50% (2320 of 4565) |##########          | Elapsed Time: 0:17:43 ETA:   0:17:09\n"
     ]
    },
    {
     "name": "stdout",
     "output_type": "stream",
     "text": [
      "\n",
      "Saved document 2022_2319...\n"
     ]
    },
    {
     "name": "stderr",
     "output_type": "stream",
     "text": [
      " 50% (2321 of 4565) |##########          | Elapsed Time: 0:17:44 ETA:   0:17:08\n"
     ]
    },
    {
     "name": "stdout",
     "output_type": "stream",
     "text": [
      "\n",
      "Saved document 2022_2320...\n"
     ]
    },
    {
     "name": "stderr",
     "output_type": "stream",
     "text": [
      " 50% (2322 of 4565) |##########          | Elapsed Time: 0:17:44 ETA:   0:17:08\n"
     ]
    },
    {
     "name": "stdout",
     "output_type": "stream",
     "text": [
      "\n",
      "Saved document 2022_2321...\n"
     ]
    },
    {
     "name": "stderr",
     "output_type": "stream",
     "text": [
      " 50% (2323 of 4565) |##########          | Elapsed Time: 0:17:45 ETA:   0:17:08\n"
     ]
    },
    {
     "name": "stdout",
     "output_type": "stream",
     "text": [
      "\n",
      "Saved document 2022_2322...\n"
     ]
    },
    {
     "name": "stderr",
     "output_type": "stream",
     "text": [
      " 50% (2324 of 4565) |##########          | Elapsed Time: 0:17:46 ETA:   0:17:08\n"
     ]
    },
    {
     "name": "stdout",
     "output_type": "stream",
     "text": [
      "\n",
      "Saved document 2022_2323...\n"
     ]
    },
    {
     "name": "stderr",
     "output_type": "stream",
     "text": [
      " 50% (2325 of 4565) |##########          | Elapsed Time: 0:17:46 ETA:   0:17:07\n"
     ]
    },
    {
     "name": "stdout",
     "output_type": "stream",
     "text": [
      "\n",
      "Saved document 2022_2324...\n"
     ]
    },
    {
     "name": "stderr",
     "output_type": "stream",
     "text": [
      " 50% (2326 of 4565) |##########          | Elapsed Time: 0:17:47 ETA:   0:17:07\n"
     ]
    },
    {
     "name": "stdout",
     "output_type": "stream",
     "text": [
      "\n",
      "Saved document 2022_2325...\n"
     ]
    },
    {
     "name": "stderr",
     "output_type": "stream",
     "text": [
      " 50% (2327 of 4565) |##########          | Elapsed Time: 0:17:48 ETA:   0:17:07\n"
     ]
    },
    {
     "name": "stdout",
     "output_type": "stream",
     "text": [
      "\n",
      "Saved document 2022_2326...\n"
     ]
    },
    {
     "name": "stderr",
     "output_type": "stream",
     "text": [
      " 50% (2328 of 4565) |##########          | Elapsed Time: 0:17:48 ETA:   0:17:07\n"
     ]
    },
    {
     "name": "stdout",
     "output_type": "stream",
     "text": [
      "\n",
      "Saved document 2022_2327...\n"
     ]
    },
    {
     "name": "stderr",
     "output_type": "stream",
     "text": [
      " 51% (2329 of 4565) |##########          | Elapsed Time: 0:17:49 ETA:   0:17:07\n"
     ]
    },
    {
     "name": "stdout",
     "output_type": "stream",
     "text": [
      "\n",
      "Saved document 2022_2328...\n"
     ]
    },
    {
     "name": "stderr",
     "output_type": "stream",
     "text": [
      " 51% (2330 of 4565) |##########          | Elapsed Time: 0:17:50 ETA:   0:17:06\n"
     ]
    },
    {
     "name": "stdout",
     "output_type": "stream",
     "text": [
      "\n",
      "Saved document 2022_2329...\n"
     ]
    },
    {
     "name": "stderr",
     "output_type": "stream",
     "text": [
      " 51% (2331 of 4565) |##########          | Elapsed Time: 0:17:51 ETA:   0:17:06\n"
     ]
    },
    {
     "name": "stdout",
     "output_type": "stream",
     "text": [
      "\n",
      "Saved document 2022_2330...\n"
     ]
    },
    {
     "name": "stderr",
     "output_type": "stream",
     "text": [
      " 51% (2332 of 4565) |##########          | Elapsed Time: 0:17:51 ETA:   0:17:06\n"
     ]
    },
    {
     "name": "stdout",
     "output_type": "stream",
     "text": [
      "\n",
      "Saved document 2022_2331...\n"
     ]
    },
    {
     "name": "stderr",
     "output_type": "stream",
     "text": [
      " 51% (2333 of 4565) |##########          | Elapsed Time: 0:17:52 ETA:   0:17:06\n"
     ]
    },
    {
     "name": "stdout",
     "output_type": "stream",
     "text": [
      "\n",
      "Saved document 2022_2332...\n"
     ]
    },
    {
     "name": "stderr",
     "output_type": "stream",
     "text": [
      " 51% (2334 of 4565) |##########          | Elapsed Time: 0:17:53 ETA:   0:17:05\n"
     ]
    },
    {
     "name": "stdout",
     "output_type": "stream",
     "text": [
      "\n",
      "Saved document 2022_2333...\n"
     ]
    },
    {
     "name": "stderr",
     "output_type": "stream",
     "text": [
      " 51% (2335 of 4565) |##########          | Elapsed Time: 0:17:53 ETA:   0:17:05\n"
     ]
    },
    {
     "name": "stdout",
     "output_type": "stream",
     "text": [
      "\n",
      "Saved document 2022_2334...\n"
     ]
    },
    {
     "name": "stderr",
     "output_type": "stream",
     "text": [
      " 51% (2336 of 4565) |##########          | Elapsed Time: 0:17:54 ETA:   0:17:05\n"
     ]
    },
    {
     "name": "stdout",
     "output_type": "stream",
     "text": [
      "\n",
      "Saved document 2022_2335...\n"
     ]
    },
    {
     "name": "stderr",
     "output_type": "stream",
     "text": [
      " 51% (2337 of 4565) |##########          | Elapsed Time: 0:17:55 ETA:   0:17:04\n"
     ]
    },
    {
     "name": "stdout",
     "output_type": "stream",
     "text": [
      "\n",
      "Saved document 2022_2336...\n",
      "HTTP 429 Too Many Requests. Retrying...\n"
     ]
    },
    {
     "name": "stderr",
     "output_type": "stream",
     "text": [
      " 51% (2338 of 4565) |##########          | Elapsed Time: 0:18:06 ETA:   0:17:15\n"
     ]
    },
    {
     "name": "stdout",
     "output_type": "stream",
     "text": [
      "\n",
      "Saved document 2022_2337...\n"
     ]
    },
    {
     "name": "stderr",
     "output_type": "stream",
     "text": [
      " 51% (2339 of 4565) |##########          | Elapsed Time: 0:18:07 ETA:   0:17:14\n"
     ]
    },
    {
     "name": "stdout",
     "output_type": "stream",
     "text": [
      "\n",
      "Saved document 2022_2338...\n"
     ]
    },
    {
     "name": "stderr",
     "output_type": "stream",
     "text": [
      " 51% (2340 of 4565) |##########          | Elapsed Time: 0:18:08 ETA:   0:17:14\n"
     ]
    },
    {
     "name": "stdout",
     "output_type": "stream",
     "text": [
      "\n",
      "Saved document 2022_2339...\n"
     ]
    },
    {
     "name": "stderr",
     "output_type": "stream",
     "text": [
      " 51% (2341 of 4565) |##########          | Elapsed Time: 0:18:08 ETA:   0:17:14\n"
     ]
    },
    {
     "name": "stdout",
     "output_type": "stream",
     "text": [
      "\n",
      "Saved document 2022_2340...\n"
     ]
    },
    {
     "name": "stderr",
     "output_type": "stream",
     "text": [
      " 51% (2342 of 4565) |##########          | Elapsed Time: 0:18:09 ETA:   0:17:14\n"
     ]
    },
    {
     "name": "stdout",
     "output_type": "stream",
     "text": [
      "\n",
      "Saved document 2022_2341...\n"
     ]
    },
    {
     "name": "stderr",
     "output_type": "stream",
     "text": [
      " 51% (2343 of 4565) |##########          | Elapsed Time: 0:18:10 ETA:   0:17:13\n"
     ]
    },
    {
     "name": "stdout",
     "output_type": "stream",
     "text": [
      "\n",
      "Saved document 2022_2342...\n"
     ]
    },
    {
     "name": "stderr",
     "output_type": "stream",
     "text": [
      " 51% (2344 of 4565) |##########          | Elapsed Time: 0:18:10 ETA:   0:17:13\n"
     ]
    },
    {
     "name": "stdout",
     "output_type": "stream",
     "text": [
      "\n",
      "Saved document 2022_2343...\n"
     ]
    },
    {
     "name": "stderr",
     "output_type": "stream",
     "text": [
      " 51% (2345 of 4565) |##########          | Elapsed Time: 0:18:11 ETA:   0:17:13\n"
     ]
    },
    {
     "name": "stdout",
     "output_type": "stream",
     "text": [
      "\n",
      "Saved document 2022_2344...\n"
     ]
    },
    {
     "name": "stderr",
     "output_type": "stream",
     "text": [
      " 51% (2346 of 4565) |##########          | Elapsed Time: 0:18:12 ETA:   0:17:13\n"
     ]
    },
    {
     "name": "stdout",
     "output_type": "stream",
     "text": [
      "\n",
      "Saved document 2022_2345...\n"
     ]
    },
    {
     "name": "stderr",
     "output_type": "stream",
     "text": [
      " 51% (2347 of 4565) |##########          | Elapsed Time: 0:18:13 ETA:   0:17:13\n"
     ]
    },
    {
     "name": "stdout",
     "output_type": "stream",
     "text": [
      "\n",
      "Saved document 2022_2346...\n"
     ]
    },
    {
     "name": "stderr",
     "output_type": "stream",
     "text": [
      " 51% (2348 of 4565) |##########          | Elapsed Time: 0:18:14 ETA:   0:17:13\n"
     ]
    },
    {
     "name": "stdout",
     "output_type": "stream",
     "text": [
      "\n",
      "Saved document 2022_2347...\n"
     ]
    },
    {
     "name": "stderr",
     "output_type": "stream",
     "text": [
      " 51% (2349 of 4565) |##########          | Elapsed Time: 0:18:15 ETA:   0:17:13\n"
     ]
    },
    {
     "name": "stdout",
     "output_type": "stream",
     "text": [
      "\n",
      "Saved document 2022_2348...\n"
     ]
    },
    {
     "name": "stderr",
     "output_type": "stream",
     "text": [
      " 51% (2350 of 4565) |##########          | Elapsed Time: 0:18:15 ETA:   0:17:12\n"
     ]
    },
    {
     "name": "stdout",
     "output_type": "stream",
     "text": [
      "\n",
      "Saved document 2022_2349...\n"
     ]
    },
    {
     "name": "stderr",
     "output_type": "stream",
     "text": [
      " 51% (2351 of 4565) |##########          | Elapsed Time: 0:18:16 ETA:   0:17:12\n"
     ]
    },
    {
     "name": "stdout",
     "output_type": "stream",
     "text": [
      "\n",
      "Saved document 2022_2350...\n"
     ]
    },
    {
     "name": "stderr",
     "output_type": "stream",
     "text": [
      " 51% (2352 of 4565) |##########          | Elapsed Time: 0:18:16 ETA:   0:17:11\n"
     ]
    },
    {
     "name": "stdout",
     "output_type": "stream",
     "text": [
      "\n",
      "Saved document 2022_2351...\n"
     ]
    },
    {
     "name": "stderr",
     "output_type": "stream",
     "text": [
      " 51% (2353 of 4565) |##########          | Elapsed Time: 0:18:17 ETA:   0:17:11\n"
     ]
    },
    {
     "name": "stdout",
     "output_type": "stream",
     "text": [
      "\n",
      "Saved document 2022_2352...\n"
     ]
    },
    {
     "name": "stderr",
     "output_type": "stream",
     "text": [
      " 51% (2354 of 4565) |##########          | Elapsed Time: 0:18:18 ETA:   0:17:12\n"
     ]
    },
    {
     "name": "stdout",
     "output_type": "stream",
     "text": [
      "\n",
      "Saved document 2022_2353...\n"
     ]
    },
    {
     "name": "stderr",
     "output_type": "stream",
     "text": [
      " 51% (2355 of 4565) |##########          | Elapsed Time: 0:18:19 ETA:   0:17:11\n"
     ]
    },
    {
     "name": "stdout",
     "output_type": "stream",
     "text": [
      "\n",
      "Saved document 2022_2354...\n",
      "HTTP 429 Too Many Requests. Retrying...\n"
     ]
    },
    {
     "name": "stderr",
     "output_type": "stream",
     "text": [
      " 51% (2356 of 4565) |##########          | Elapsed Time: 0:18:30 ETA:   0:17:21\n"
     ]
    },
    {
     "name": "stdout",
     "output_type": "stream",
     "text": [
      "\n",
      "Saved document 2022_2355...\n"
     ]
    },
    {
     "name": "stderr",
     "output_type": "stream",
     "text": [
      " 51% (2357 of 4565) |##########          | Elapsed Time: 0:18:31 ETA:   0:17:21\n"
     ]
    },
    {
     "name": "stdout",
     "output_type": "stream",
     "text": [
      "\n",
      "Saved document 2022_2356...\n"
     ]
    },
    {
     "name": "stderr",
     "output_type": "stream",
     "text": [
      " 51% (2358 of 4565) |##########          | Elapsed Time: 0:18:32 ETA:   0:17:20\n"
     ]
    },
    {
     "name": "stdout",
     "output_type": "stream",
     "text": [
      "\n",
      "Saved document 2022_2357...\n"
     ]
    },
    {
     "name": "stderr",
     "output_type": "stream",
     "text": [
      " 51% (2359 of 4565) |##########          | Elapsed Time: 0:18:33 ETA:   0:17:20\n"
     ]
    },
    {
     "name": "stdout",
     "output_type": "stream",
     "text": [
      "\n",
      "Saved document 2022_2358...\n"
     ]
    },
    {
     "name": "stderr",
     "output_type": "stream",
     "text": [
      " 51% (2360 of 4565) |##########          | Elapsed Time: 0:18:33 ETA:   0:17:20\n"
     ]
    },
    {
     "name": "stdout",
     "output_type": "stream",
     "text": [
      "\n",
      "Saved document 2022_2359...\n"
     ]
    },
    {
     "name": "stderr",
     "output_type": "stream",
     "text": [
      " 51% (2361 of 4565) |##########          | Elapsed Time: 0:18:34 ETA:   0:17:20\n"
     ]
    },
    {
     "name": "stdout",
     "output_type": "stream",
     "text": [
      "\n",
      "Saved document 2022_2360...\n"
     ]
    },
    {
     "name": "stderr",
     "output_type": "stream",
     "text": [
      " 51% (2362 of 4565) |##########          | Elapsed Time: 0:18:35 ETA:   0:17:20\n"
     ]
    },
    {
     "name": "stdout",
     "output_type": "stream",
     "text": [
      "\n",
      "Saved document 2022_2361...\n"
     ]
    },
    {
     "name": "stderr",
     "output_type": "stream",
     "text": [
      " 51% (2363 of 4565) |##########          | Elapsed Time: 0:18:36 ETA:   0:17:20\n"
     ]
    },
    {
     "name": "stdout",
     "output_type": "stream",
     "text": [
      "\n",
      "Saved document 2022_2362...\n"
     ]
    },
    {
     "name": "stderr",
     "output_type": "stream",
     "text": [
      " 51% (2364 of 4565) |##########          | Elapsed Time: 0:18:37 ETA:   0:17:20\n"
     ]
    },
    {
     "name": "stdout",
     "output_type": "stream",
     "text": [
      "\n",
      "Saved document 2022_2363...\n"
     ]
    },
    {
     "name": "stderr",
     "output_type": "stream",
     "text": [
      " 51% (2365 of 4565) |##########          | Elapsed Time: 0:18:37 ETA:   0:17:19\n"
     ]
    },
    {
     "name": "stdout",
     "output_type": "stream",
     "text": [
      "\n",
      "Saved document 2022_2364...\n"
     ]
    },
    {
     "name": "stderr",
     "output_type": "stream",
     "text": [
      " 51% (2366 of 4565) |##########          | Elapsed Time: 0:18:38 ETA:   0:17:19\n"
     ]
    },
    {
     "name": "stdout",
     "output_type": "stream",
     "text": [
      "\n",
      "Saved document 2022_2365...\n"
     ]
    },
    {
     "name": "stderr",
     "output_type": "stream",
     "text": [
      " 51% (2367 of 4565) |##########          | Elapsed Time: 0:18:39 ETA:   0:17:19\n"
     ]
    },
    {
     "name": "stdout",
     "output_type": "stream",
     "text": [
      "\n",
      "Saved document 2022_2366...\n"
     ]
    },
    {
     "name": "stderr",
     "output_type": "stream",
     "text": [
      " 51% (2368 of 4565) |##########          | Elapsed Time: 0:18:40 ETA:   0:17:19\n"
     ]
    },
    {
     "name": "stdout",
     "output_type": "stream",
     "text": [
      "\n",
      "Saved document 2022_2367...\n"
     ]
    },
    {
     "name": "stderr",
     "output_type": "stream",
     "text": [
      " 51% (2369 of 4565) |##########          | Elapsed Time: 0:18:42 ETA:   0:17:20\n"
     ]
    },
    {
     "name": "stdout",
     "output_type": "stream",
     "text": [
      "\n",
      "Saved document 2022_2368...\n"
     ]
    },
    {
     "name": "stderr",
     "output_type": "stream",
     "text": [
      " 51% (2370 of 4565) |##########          | Elapsed Time: 0:18:44 ETA:   0:17:21\n"
     ]
    },
    {
     "name": "stdout",
     "output_type": "stream",
     "text": [
      "\n",
      "Saved document 2022_2369...\n"
     ]
    },
    {
     "name": "stderr",
     "output_type": "stream",
     "text": [
      " 51% (2371 of 4565) |##########          | Elapsed Time: 0:18:47 ETA:   0:17:23\n"
     ]
    },
    {
     "name": "stdout",
     "output_type": "stream",
     "text": [
      "\n",
      "Saved document 2022_2370...\n"
     ]
    },
    {
     "name": "stderr",
     "output_type": "stream",
     "text": [
      " 51% (2372 of 4565) |##########          | Elapsed Time: 0:18:48 ETA:   0:17:23\n"
     ]
    },
    {
     "name": "stdout",
     "output_type": "stream",
     "text": [
      "\n",
      "Saved document 2022_2371...\n"
     ]
    },
    {
     "name": "stderr",
     "output_type": "stream",
     "text": [
      " 51% (2373 of 4565) |##########          | Elapsed Time: 0:18:49 ETA:   0:17:23\n"
     ]
    },
    {
     "name": "stdout",
     "output_type": "stream",
     "text": [
      "\n",
      "Saved document 2022_2372...\n"
     ]
    },
    {
     "name": "stderr",
     "output_type": "stream",
     "text": [
      " 52% (2374 of 4565) |##########          | Elapsed Time: 0:18:51 ETA:   0:17:23\n"
     ]
    },
    {
     "name": "stdout",
     "output_type": "stream",
     "text": [
      "\n",
      "Saved document 2022_2373...\n"
     ]
    },
    {
     "name": "stderr",
     "output_type": "stream",
     "text": [
      " 52% (2375 of 4565) |##########          | Elapsed Time: 0:18:52 ETA:   0:17:24\n"
     ]
    },
    {
     "name": "stdout",
     "output_type": "stream",
     "text": [
      "\n",
      "Saved document 2022_2374...\n"
     ]
    },
    {
     "name": "stderr",
     "output_type": "stream",
     "text": [
      " 52% (2376 of 4565) |##########          | Elapsed Time: 0:18:54 ETA:   0:17:25\n"
     ]
    },
    {
     "name": "stdout",
     "output_type": "stream",
     "text": [
      "\n",
      "Saved document 2022_2375...\n"
     ]
    },
    {
     "name": "stderr",
     "output_type": "stream",
     "text": [
      " 52% (2377 of 4565) |##########          | Elapsed Time: 0:18:56 ETA:   0:17:26\n"
     ]
    },
    {
     "name": "stdout",
     "output_type": "stream",
     "text": [
      "\n",
      "Saved document 2022_2376...\n"
     ]
    },
    {
     "name": "stderr",
     "output_type": "stream",
     "text": [
      " 52% (2378 of 4565) |##########          | Elapsed Time: 0:18:57 ETA:   0:17:26\n"
     ]
    },
    {
     "name": "stdout",
     "output_type": "stream",
     "text": [
      "\n",
      "Saved document 2022_2377...\n"
     ]
    },
    {
     "name": "stderr",
     "output_type": "stream",
     "text": [
      " 52% (2379 of 4565) |##########          | Elapsed Time: 0:18:58 ETA:   0:17:26\n"
     ]
    },
    {
     "name": "stdout",
     "output_type": "stream",
     "text": [
      "\n",
      "Saved document 2022_2378...\n"
     ]
    },
    {
     "name": "stderr",
     "output_type": "stream",
     "text": [
      " 52% (2380 of 4565) |##########          | Elapsed Time: 0:18:59 ETA:   0:17:25\n"
     ]
    },
    {
     "name": "stdout",
     "output_type": "stream",
     "text": [
      "\n",
      "Saved document 2022_2379...\n"
     ]
    },
    {
     "name": "stderr",
     "output_type": "stream",
     "text": [
      " 52% (2381 of 4565) |##########          | Elapsed Time: 0:19:00 ETA:   0:17:25\n"
     ]
    },
    {
     "name": "stdout",
     "output_type": "stream",
     "text": [
      "\n",
      "Saved document 2022_2380...\n"
     ]
    },
    {
     "name": "stderr",
     "output_type": "stream",
     "text": [
      " 52% (2382 of 4565) |##########          | Elapsed Time: 0:19:01 ETA:   0:17:26\n"
     ]
    },
    {
     "name": "stdout",
     "output_type": "stream",
     "text": [
      "\n",
      "Saved document 2022_2381...\n"
     ]
    },
    {
     "name": "stderr",
     "output_type": "stream",
     "text": [
      " 52% (2383 of 4565) |##########          | Elapsed Time: 0:19:02 ETA:   0:17:25\n"
     ]
    },
    {
     "name": "stdout",
     "output_type": "stream",
     "text": [
      "\n",
      "Saved document 2022_2382...\n"
     ]
    },
    {
     "name": "stderr",
     "output_type": "stream",
     "text": [
      " 52% (2384 of 4565) |##########          | Elapsed Time: 0:19:03 ETA:   0:17:26\n"
     ]
    },
    {
     "name": "stdout",
     "output_type": "stream",
     "text": [
      "\n",
      "Saved document 2022_2383...\n"
     ]
    },
    {
     "name": "stderr",
     "output_type": "stream",
     "text": [
      " 52% (2385 of 4565) |##########          | Elapsed Time: 0:19:04 ETA:   0:17:26\n"
     ]
    },
    {
     "name": "stdout",
     "output_type": "stream",
     "text": [
      "\n",
      "Saved document 2022_2384...\n"
     ]
    },
    {
     "name": "stderr",
     "output_type": "stream",
     "text": [
      " 52% (2386 of 4565) |##########          | Elapsed Time: 0:19:05 ETA:   0:17:26\n"
     ]
    },
    {
     "name": "stdout",
     "output_type": "stream",
     "text": [
      "\n",
      "Saved document 2022_2385...\n"
     ]
    },
    {
     "name": "stderr",
     "output_type": "stream",
     "text": [
      " 52% (2387 of 4565) |##########          | Elapsed Time: 0:19:06 ETA:   0:17:26\n"
     ]
    },
    {
     "name": "stdout",
     "output_type": "stream",
     "text": [
      "\n",
      "Saved document 2022_2386...\n"
     ]
    },
    {
     "name": "stderr",
     "output_type": "stream",
     "text": [
      " 52% (2388 of 4565) |##########          | Elapsed Time: 0:19:08 ETA:   0:17:27\n"
     ]
    },
    {
     "name": "stdout",
     "output_type": "stream",
     "text": [
      "\n",
      "Saved document 2022_2387...\n"
     ]
    },
    {
     "name": "stderr",
     "output_type": "stream",
     "text": [
      " 52% (2389 of 4565) |##########          | Elapsed Time: 0:19:10 ETA:   0:17:27\n"
     ]
    },
    {
     "name": "stdout",
     "output_type": "stream",
     "text": [
      "\n",
      "Saved document 2022_2388...\n"
     ]
    },
    {
     "name": "stderr",
     "output_type": "stream",
     "text": [
      " 52% (2390 of 4565) |##########          | Elapsed Time: 0:19:11 ETA:   0:17:27\n"
     ]
    },
    {
     "name": "stdout",
     "output_type": "stream",
     "text": [
      "\n",
      "Saved document 2022_2389...\n"
     ]
    },
    {
     "name": "stderr",
     "output_type": "stream",
     "text": [
      " 52% (2391 of 4565) |##########          | Elapsed Time: 0:19:12 ETA:   0:17:27\n"
     ]
    },
    {
     "name": "stdout",
     "output_type": "stream",
     "text": [
      "\n",
      "Saved document 2022_2390...\n"
     ]
    },
    {
     "name": "stderr",
     "output_type": "stream",
     "text": [
      " 52% (2392 of 4565) |##########          | Elapsed Time: 0:19:12 ETA:   0:17:27\n"
     ]
    },
    {
     "name": "stdout",
     "output_type": "stream",
     "text": [
      "\n",
      "Saved document 2022_2391...\n"
     ]
    },
    {
     "name": "stderr",
     "output_type": "stream",
     "text": [
      " 52% (2393 of 4565) |##########          | Elapsed Time: 0:19:14 ETA:   0:17:27\n"
     ]
    },
    {
     "name": "stdout",
     "output_type": "stream",
     "text": [
      "\n",
      "Saved document 2022_2392...\n"
     ]
    },
    {
     "name": "stderr",
     "output_type": "stream",
     "text": [
      " 52% (2394 of 4565) |##########          | Elapsed Time: 0:19:15 ETA:   0:17:27\n"
     ]
    },
    {
     "name": "stdout",
     "output_type": "stream",
     "text": [
      "\n",
      "Saved document 2022_2393...\n"
     ]
    },
    {
     "name": "stderr",
     "output_type": "stream",
     "text": [
      " 52% (2395 of 4565) |##########          | Elapsed Time: 0:19:16 ETA:   0:17:27\n"
     ]
    },
    {
     "name": "stdout",
     "output_type": "stream",
     "text": [
      "\n",
      "Saved document 2022_2394...\n"
     ]
    },
    {
     "name": "stderr",
     "output_type": "stream",
     "text": [
      " 52% (2396 of 4565) |##########          | Elapsed Time: 0:19:17 ETA:   0:17:27\n"
     ]
    },
    {
     "name": "stdout",
     "output_type": "stream",
     "text": [
      "\n",
      "Saved document 2022_2395...\n"
     ]
    },
    {
     "name": "stderr",
     "output_type": "stream",
     "text": [
      " 52% (2397 of 4565) |##########          | Elapsed Time: 0:19:19 ETA:   0:17:28\n"
     ]
    },
    {
     "name": "stdout",
     "output_type": "stream",
     "text": [
      "\n",
      "Saved document 2022_2396...\n"
     ]
    },
    {
     "name": "stderr",
     "output_type": "stream",
     "text": [
      " 52% (2398 of 4565) |##########          | Elapsed Time: 0:19:19 ETA:   0:17:27\n"
     ]
    },
    {
     "name": "stdout",
     "output_type": "stream",
     "text": [
      "\n",
      "Saved document 2022_2397...\n"
     ]
    },
    {
     "name": "stderr",
     "output_type": "stream",
     "text": [
      " 52% (2399 of 4565) |##########          | Elapsed Time: 0:19:21 ETA:   0:17:28\n"
     ]
    },
    {
     "name": "stdout",
     "output_type": "stream",
     "text": [
      "\n",
      "Saved document 2022_2398...\n"
     ]
    },
    {
     "name": "stderr",
     "output_type": "stream",
     "text": [
      " 52% (2400 of 4565) |##########          | Elapsed Time: 0:19:22 ETA:   0:17:28\n"
     ]
    },
    {
     "name": "stdout",
     "output_type": "stream",
     "text": [
      "\n",
      "Saved document 2022_2399...\n"
     ]
    },
    {
     "name": "stderr",
     "output_type": "stream",
     "text": [
      " 52% (2401 of 4565) |##########          | Elapsed Time: 0:19:23 ETA:   0:17:28\n"
     ]
    },
    {
     "name": "stdout",
     "output_type": "stream",
     "text": [
      "\n",
      "Saved document 2022_2400...\n"
     ]
    },
    {
     "name": "stderr",
     "output_type": "stream",
     "text": [
      " 52% (2402 of 4565) |##########          | Elapsed Time: 0:19:24 ETA:   0:17:28\n"
     ]
    },
    {
     "name": "stdout",
     "output_type": "stream",
     "text": [
      "\n",
      "Saved document 2022_2401...\n"
     ]
    },
    {
     "name": "stderr",
     "output_type": "stream",
     "text": [
      " 52% (2403 of 4565) |##########          | Elapsed Time: 0:19:25 ETA:   0:17:28\n"
     ]
    },
    {
     "name": "stdout",
     "output_type": "stream",
     "text": [
      "\n",
      "Saved document 2022_2402...\n"
     ]
    },
    {
     "name": "stderr",
     "output_type": "stream",
     "text": [
      " 52% (2404 of 4565) |##########          | Elapsed Time: 0:19:25 ETA:   0:17:28\n"
     ]
    },
    {
     "name": "stdout",
     "output_type": "stream",
     "text": [
      "\n",
      "Saved document 2022_2403...\n"
     ]
    },
    {
     "name": "stderr",
     "output_type": "stream",
     "text": [
      " 52% (2405 of 4565) |##########          | Elapsed Time: 0:19:26 ETA:   0:17:27\n"
     ]
    },
    {
     "name": "stdout",
     "output_type": "stream",
     "text": [
      "\n",
      "Saved document 2022_2404...\n"
     ]
    },
    {
     "name": "stderr",
     "output_type": "stream",
     "text": [
      " 52% (2406 of 4565) |##########          | Elapsed Time: 0:19:27 ETA:   0:17:27\n"
     ]
    },
    {
     "name": "stdout",
     "output_type": "stream",
     "text": [
      "\n",
      "Saved document 2022_2405...\n"
     ]
    },
    {
     "name": "stderr",
     "output_type": "stream",
     "text": [
      " 52% (2407 of 4565) |##########          | Elapsed Time: 0:19:28 ETA:   0:17:27\n"
     ]
    },
    {
     "name": "stdout",
     "output_type": "stream",
     "text": [
      "\n",
      "Saved document 2022_2406...\n"
     ]
    },
    {
     "name": "stderr",
     "output_type": "stream",
     "text": [
      " 52% (2408 of 4565) |##########          | Elapsed Time: 0:19:29 ETA:   0:17:27\n"
     ]
    },
    {
     "name": "stdout",
     "output_type": "stream",
     "text": [
      "\n",
      "Saved document 2022_2407...\n"
     ]
    },
    {
     "name": "stderr",
     "output_type": "stream",
     "text": [
      " 52% (2409 of 4565) |##########          | Elapsed Time: 0:19:30 ETA:   0:17:27\n"
     ]
    },
    {
     "name": "stdout",
     "output_type": "stream",
     "text": [
      "\n",
      "Saved document 2022_2408...\n",
      "HTTP 429 Too Many Requests. Retrying...\n"
     ]
    },
    {
     "name": "stderr",
     "output_type": "stream",
     "text": [
      " 52% (2410 of 4565) |##########          | Elapsed Time: 0:19:41 ETA:   0:17:36\n"
     ]
    },
    {
     "name": "stdout",
     "output_type": "stream",
     "text": [
      "\n",
      "Saved document 2022_2409...\n"
     ]
    },
    {
     "name": "stderr",
     "output_type": "stream",
     "text": [
      " 52% (2411 of 4565) |##########          | Elapsed Time: 0:19:43 ETA:   0:17:36\n"
     ]
    },
    {
     "name": "stdout",
     "output_type": "stream",
     "text": [
      "\n",
      "Saved document 2022_2410...\n"
     ]
    },
    {
     "name": "stderr",
     "output_type": "stream",
     "text": [
      " 52% (2412 of 4565) |##########          | Elapsed Time: 0:19:43 ETA:   0:17:36\n"
     ]
    },
    {
     "name": "stdout",
     "output_type": "stream",
     "text": [
      "\n",
      "Saved document 2022_2411...\n"
     ]
    },
    {
     "name": "stderr",
     "output_type": "stream",
     "text": [
      " 52% (2413 of 4565) |##########          | Elapsed Time: 0:19:44 ETA:   0:17:36\n"
     ]
    },
    {
     "name": "stdout",
     "output_type": "stream",
     "text": [
      "\n",
      "Saved document 2022_2412...\n"
     ]
    },
    {
     "name": "stderr",
     "output_type": "stream",
     "text": [
      " 52% (2414 of 4565) |##########          | Elapsed Time: 0:19:45 ETA:   0:17:36\n"
     ]
    },
    {
     "name": "stdout",
     "output_type": "stream",
     "text": [
      "\n",
      "Saved document 2022_2413...\n"
     ]
    },
    {
     "name": "stderr",
     "output_type": "stream",
     "text": [
      " 52% (2415 of 4565) |##########          | Elapsed Time: 0:19:47 ETA:   0:17:36\n"
     ]
    },
    {
     "name": "stdout",
     "output_type": "stream",
     "text": [
      "\n",
      "Saved document 2022_2414...\n"
     ]
    },
    {
     "name": "stderr",
     "output_type": "stream",
     "text": [
      " 52% (2416 of 4565) |##########          | Elapsed Time: 0:19:47 ETA:   0:17:36\n"
     ]
    },
    {
     "name": "stdout",
     "output_type": "stream",
     "text": [
      "\n",
      "Saved document 2022_2415...\n"
     ]
    },
    {
     "name": "stderr",
     "output_type": "stream",
     "text": [
      " 52% (2417 of 4565) |##########          | Elapsed Time: 0:19:48 ETA:   0:17:36\n"
     ]
    },
    {
     "name": "stdout",
     "output_type": "stream",
     "text": [
      "\n",
      "Saved document 2022_2416...\n"
     ]
    },
    {
     "name": "stderr",
     "output_type": "stream",
     "text": [
      " 52% (2418 of 4565) |##########          | Elapsed Time: 0:19:49 ETA:   0:17:36\n"
     ]
    },
    {
     "name": "stdout",
     "output_type": "stream",
     "text": [
      "\n",
      "Saved document 2022_2417...\n"
     ]
    },
    {
     "name": "stderr",
     "output_type": "stream",
     "text": [
      " 52% (2419 of 4565) |##########          | Elapsed Time: 0:19:49 ETA:   0:17:35\n"
     ]
    },
    {
     "name": "stdout",
     "output_type": "stream",
     "text": [
      "\n",
      "Saved document 2022_2418...\n"
     ]
    },
    {
     "name": "stderr",
     "output_type": "stream",
     "text": [
      " 53% (2420 of 4565) |##########          | Elapsed Time: 0:19:50 ETA:   0:17:35\n"
     ]
    },
    {
     "name": "stdout",
     "output_type": "stream",
     "text": [
      "\n",
      "Saved document 2022_2419...\n"
     ]
    },
    {
     "name": "stderr",
     "output_type": "stream",
     "text": [
      " 53% (2421 of 4565) |##########          | Elapsed Time: 0:19:51 ETA:   0:17:35\n"
     ]
    },
    {
     "name": "stdout",
     "output_type": "stream",
     "text": [
      "\n",
      "Saved document 2022_2420...\n"
     ]
    },
    {
     "name": "stderr",
     "output_type": "stream",
     "text": [
      " 53% (2422 of 4565) |##########          | Elapsed Time: 0:19:52 ETA:   0:17:35\n"
     ]
    },
    {
     "name": "stdout",
     "output_type": "stream",
     "text": [
      "\n",
      "Saved document 2022_2421...\n"
     ]
    },
    {
     "name": "stderr",
     "output_type": "stream",
     "text": [
      " 53% (2423 of 4565) |##########          | Elapsed Time: 0:19:53 ETA:   0:17:34\n"
     ]
    },
    {
     "name": "stdout",
     "output_type": "stream",
     "text": [
      "\n",
      "Saved document 2022_2422...\n"
     ]
    },
    {
     "name": "stderr",
     "output_type": "stream",
     "text": [
      " 53% (2424 of 4565) |##########          | Elapsed Time: 0:19:53 ETA:   0:17:34\n"
     ]
    },
    {
     "name": "stdout",
     "output_type": "stream",
     "text": [
      "\n",
      "Saved document 2022_2423...\n"
     ]
    },
    {
     "name": "stderr",
     "output_type": "stream",
     "text": [
      " 53% (2425 of 4565) |##########          | Elapsed Time: 0:19:54 ETA:   0:17:33\n"
     ]
    },
    {
     "name": "stdout",
     "output_type": "stream",
     "text": [
      "\n",
      "Saved document 2022_2424...\n"
     ]
    },
    {
     "name": "stderr",
     "output_type": "stream",
     "text": [
      " 53% (2426 of 4565) |##########          | Elapsed Time: 0:19:54 ETA:   0:17:33\n"
     ]
    },
    {
     "name": "stdout",
     "output_type": "stream",
     "text": [
      "\n",
      "Saved document 2022_2425...\n"
     ]
    },
    {
     "name": "stderr",
     "output_type": "stream",
     "text": [
      " 53% (2427 of 4565) |##########          | Elapsed Time: 0:19:55 ETA:   0:17:33\n"
     ]
    },
    {
     "name": "stdout",
     "output_type": "stream",
     "text": [
      "\n",
      "Saved document 2022_2426...\n"
     ]
    },
    {
     "name": "stderr",
     "output_type": "stream",
     "text": [
      " 53% (2428 of 4565) |##########          | Elapsed Time: 0:19:56 ETA:   0:17:33\n"
     ]
    },
    {
     "name": "stdout",
     "output_type": "stream",
     "text": [
      "\n",
      "Saved document 2022_2427...\n"
     ]
    },
    {
     "name": "stderr",
     "output_type": "stream",
     "text": [
      " 53% (2429 of 4565) |##########          | Elapsed Time: 0:19:57 ETA:   0:17:33\n"
     ]
    },
    {
     "name": "stdout",
     "output_type": "stream",
     "text": [
      "\n",
      "Saved document 2022_2428...\n",
      "HTTP 429 Too Many Requests. Retrying...\n"
     ]
    },
    {
     "name": "stderr",
     "output_type": "stream",
     "text": [
      " 53% (2430 of 4565) |##########          | Elapsed Time: 0:20:12 ETA:   0:17:45\n"
     ]
    },
    {
     "name": "stdout",
     "output_type": "stream",
     "text": [
      "\n",
      "Saved document 2022_2429...\n"
     ]
    },
    {
     "name": "stderr",
     "output_type": "stream",
     "text": [
      " 53% (2431 of 4565) |##########          | Elapsed Time: 0:20:13 ETA:   0:17:45\n"
     ]
    },
    {
     "name": "stdout",
     "output_type": "stream",
     "text": [
      "\n",
      "Saved document 2022_2430...\n"
     ]
    },
    {
     "name": "stderr",
     "output_type": "stream",
     "text": [
      " 53% (2432 of 4565) |##########          | Elapsed Time: 0:20:14 ETA:   0:17:45\n"
     ]
    },
    {
     "name": "stdout",
     "output_type": "stream",
     "text": [
      "\n",
      "Saved document 2022_2431...\n"
     ]
    },
    {
     "name": "stderr",
     "output_type": "stream",
     "text": [
      " 53% (2433 of 4565) |##########          | Elapsed Time: 0:20:15 ETA:   0:17:45\n"
     ]
    },
    {
     "name": "stdout",
     "output_type": "stream",
     "text": [
      "\n",
      "Saved document 2022_2432...\n"
     ]
    },
    {
     "name": "stderr",
     "output_type": "stream",
     "text": [
      " 53% (2434 of 4565) |##########          | Elapsed Time: 0:20:16 ETA:   0:17:45\n"
     ]
    },
    {
     "name": "stdout",
     "output_type": "stream",
     "text": [
      "\n",
      "Saved document 2022_2433...\n"
     ]
    },
    {
     "name": "stderr",
     "output_type": "stream",
     "text": [
      " 53% (2435 of 4565) |##########          | Elapsed Time: 0:20:17 ETA:   0:17:45\n"
     ]
    },
    {
     "name": "stdout",
     "output_type": "stream",
     "text": [
      "\n",
      "Saved document 2022_2434...\n"
     ]
    },
    {
     "name": "stderr",
     "output_type": "stream",
     "text": [
      " 53% (2436 of 4565) |##########          | Elapsed Time: 0:20:19 ETA:   0:17:45\n"
     ]
    },
    {
     "name": "stdout",
     "output_type": "stream",
     "text": [
      "\n",
      "Saved document 2022_2435...\n"
     ]
    },
    {
     "name": "stderr",
     "output_type": "stream",
     "text": [
      " 53% (2437 of 4565) |##########          | Elapsed Time: 0:20:21 ETA:   0:17:46\n"
     ]
    },
    {
     "name": "stdout",
     "output_type": "stream",
     "text": [
      "\n",
      "Saved document 2022_2436...\n"
     ]
    },
    {
     "name": "stderr",
     "output_type": "stream",
     "text": [
      " 53% (2438 of 4565) |##########          | Elapsed Time: 0:20:22 ETA:   0:17:46\n"
     ]
    },
    {
     "name": "stdout",
     "output_type": "stream",
     "text": [
      "\n",
      "Saved document 2022_2437...\n"
     ]
    },
    {
     "name": "stderr",
     "output_type": "stream",
     "text": [
      " 53% (2439 of 4565) |##########          | Elapsed Time: 0:20:23 ETA:   0:17:46\n"
     ]
    },
    {
     "name": "stdout",
     "output_type": "stream",
     "text": [
      "\n",
      "Saved document 2022_2438...\n"
     ]
    },
    {
     "name": "stderr",
     "output_type": "stream",
     "text": [
      " 53% (2440 of 4565) |##########          | Elapsed Time: 0:20:24 ETA:   0:17:45\n"
     ]
    },
    {
     "name": "stdout",
     "output_type": "stream",
     "text": [
      "\n",
      "Saved document 2022_2439...\n"
     ]
    },
    {
     "name": "stderr",
     "output_type": "stream",
     "text": [
      " 53% (2441 of 4565) |##########          | Elapsed Time: 0:20:25 ETA:   0:17:45\n"
     ]
    },
    {
     "name": "stdout",
     "output_type": "stream",
     "text": [
      "\n",
      "Saved document 2022_2440...\n"
     ]
    },
    {
     "name": "stderr",
     "output_type": "stream",
     "text": [
      " 53% (2442 of 4565) |##########          | Elapsed Time: 0:20:26 ETA:   0:17:46\n"
     ]
    },
    {
     "name": "stdout",
     "output_type": "stream",
     "text": [
      "\n",
      "Saved document 2022_2441...\n"
     ]
    },
    {
     "name": "stderr",
     "output_type": "stream",
     "text": [
      " 53% (2443 of 4565) |##########          | Elapsed Time: 0:20:26 ETA:   0:17:45\n"
     ]
    },
    {
     "name": "stdout",
     "output_type": "stream",
     "text": [
      "\n",
      "Saved document 2022_2442...\n"
     ]
    },
    {
     "name": "stderr",
     "output_type": "stream",
     "text": [
      " 53% (2444 of 4565) |##########          | Elapsed Time: 0:20:27 ETA:   0:17:45\n"
     ]
    },
    {
     "name": "stdout",
     "output_type": "stream",
     "text": [
      "\n",
      "Saved document 2022_2443...\n"
     ]
    },
    {
     "name": "stderr",
     "output_type": "stream",
     "text": [
      " 53% (2445 of 4565) |##########          | Elapsed Time: 0:20:28 ETA:   0:17:45\n"
     ]
    },
    {
     "name": "stdout",
     "output_type": "stream",
     "text": [
      "\n",
      "Saved document 2022_2444...\n"
     ]
    },
    {
     "name": "stderr",
     "output_type": "stream",
     "text": [
      " 53% (2446 of 4565) |##########          | Elapsed Time: 0:20:28 ETA:   0:17:44\n"
     ]
    },
    {
     "name": "stdout",
     "output_type": "stream",
     "text": [
      "\n",
      "Saved document 2022_2445...\n"
     ]
    },
    {
     "name": "stderr",
     "output_type": "stream",
     "text": [
      " 53% (2447 of 4565) |##########          | Elapsed Time: 0:20:29 ETA:   0:17:44\n"
     ]
    },
    {
     "name": "stdout",
     "output_type": "stream",
     "text": [
      "\n",
      "Saved document 2022_2446...\n"
     ]
    },
    {
     "name": "stderr",
     "output_type": "stream",
     "text": [
      " 53% (2448 of 4565) |##########          | Elapsed Time: 0:20:30 ETA:   0:17:44\n"
     ]
    },
    {
     "name": "stdout",
     "output_type": "stream",
     "text": [
      "\n",
      "Saved document 2022_2447...\n"
     ]
    },
    {
     "name": "stderr",
     "output_type": "stream",
     "text": [
      " 53% (2449 of 4565) |##########          | Elapsed Time: 0:20:31 ETA:   0:17:44\n"
     ]
    },
    {
     "name": "stdout",
     "output_type": "stream",
     "text": [
      "\n",
      "Saved document 2022_2448...\n"
     ]
    },
    {
     "name": "stderr",
     "output_type": "stream",
     "text": [
      " 53% (2450 of 4565) |##########          | Elapsed Time: 0:20:32 ETA:   0:17:43\n"
     ]
    },
    {
     "name": "stdout",
     "output_type": "stream",
     "text": [
      "\n",
      "Saved document 2022_2449...\n"
     ]
    },
    {
     "name": "stderr",
     "output_type": "stream",
     "text": [
      " 53% (2451 of 4565) |##########          | Elapsed Time: 0:20:34 ETA:   0:17:44\n"
     ]
    },
    {
     "name": "stdout",
     "output_type": "stream",
     "text": [
      "\n",
      "Saved document 2022_2450...\n"
     ]
    },
    {
     "name": "stderr",
     "output_type": "stream",
     "text": [
      " 53% (2452 of 4565) |##########          | Elapsed Time: 0:20:35 ETA:   0:17:44\n"
     ]
    },
    {
     "name": "stdout",
     "output_type": "stream",
     "text": [
      "\n",
      "Saved document 2022_2451...\n"
     ]
    },
    {
     "name": "stderr",
     "output_type": "stream",
     "text": [
      " 53% (2453 of 4565) |##########          | Elapsed Time: 0:20:36 ETA:   0:17:44\n"
     ]
    },
    {
     "name": "stdout",
     "output_type": "stream",
     "text": [
      "\n",
      "Saved document 2022_2452...\n"
     ]
    },
    {
     "name": "stderr",
     "output_type": "stream",
     "text": [
      " 53% (2454 of 4565) |##########          | Elapsed Time: 0:20:38 ETA:   0:17:45\n"
     ]
    },
    {
     "name": "stdout",
     "output_type": "stream",
     "text": [
      "\n",
      "Saved document 2022_2453...\n"
     ]
    },
    {
     "name": "stderr",
     "output_type": "stream",
     "text": [
      " 53% (2455 of 4565) |##########          | Elapsed Time: 0:20:39 ETA:   0:17:45\n"
     ]
    },
    {
     "name": "stdout",
     "output_type": "stream",
     "text": [
      "\n",
      "Saved document 2022_2454...\n"
     ]
    },
    {
     "name": "stderr",
     "output_type": "stream",
     "text": [
      " 53% (2456 of 4565) |##########          | Elapsed Time: 0:20:40 ETA:   0:17:44\n"
     ]
    },
    {
     "name": "stdout",
     "output_type": "stream",
     "text": [
      "\n",
      "Saved document 2022_2455...\n"
     ]
    },
    {
     "name": "stderr",
     "output_type": "stream",
     "text": [
      " 53% (2457 of 4565) |##########          | Elapsed Time: 0:20:40 ETA:   0:17:44\n"
     ]
    },
    {
     "name": "stdout",
     "output_type": "stream",
     "text": [
      "\n",
      "Saved document 2022_2456...\n"
     ]
    },
    {
     "name": "stderr",
     "output_type": "stream",
     "text": [
      " 53% (2458 of 4565) |##########          | Elapsed Time: 0:20:41 ETA:   0:17:44\n"
     ]
    },
    {
     "name": "stdout",
     "output_type": "stream",
     "text": [
      "\n",
      "Saved document 2022_2457...\n"
     ]
    },
    {
     "name": "stderr",
     "output_type": "stream",
     "text": [
      " 53% (2459 of 4565) |##########          | Elapsed Time: 0:20:42 ETA:   0:17:44\n"
     ]
    },
    {
     "name": "stdout",
     "output_type": "stream",
     "text": [
      "\n",
      "Saved document 2022_2458...\n"
     ]
    },
    {
     "name": "stderr",
     "output_type": "stream",
     "text": [
      " 53% (2460 of 4565) |##########          | Elapsed Time: 0:20:43 ETA:   0:17:44\n"
     ]
    },
    {
     "name": "stdout",
     "output_type": "stream",
     "text": [
      "\n",
      "Saved document 2022_2459...\n"
     ]
    },
    {
     "name": "stderr",
     "output_type": "stream",
     "text": [
      " 53% (2461 of 4565) |##########          | Elapsed Time: 0:20:44 ETA:   0:17:44\n"
     ]
    },
    {
     "name": "stdout",
     "output_type": "stream",
     "text": [
      "\n",
      "Saved document 2022_2460...\n"
     ]
    },
    {
     "name": "stderr",
     "output_type": "stream",
     "text": [
      " 53% (2462 of 4565) |##########          | Elapsed Time: 0:20:47 ETA:   0:17:45\n"
     ]
    },
    {
     "name": "stdout",
     "output_type": "stream",
     "text": [
      "\n",
      "Saved document 2022_2461...\n"
     ]
    },
    {
     "name": "stderr",
     "output_type": "stream",
     "text": [
      " 53% (2463 of 4565) |##########          | Elapsed Time: 0:20:49 ETA:   0:17:46\n"
     ]
    },
    {
     "name": "stdout",
     "output_type": "stream",
     "text": [
      "\n",
      "Saved document 2022_2462...\n"
     ]
    },
    {
     "name": "stderr",
     "output_type": "stream",
     "text": [
      " 53% (2464 of 4565) |##########          | Elapsed Time: 0:20:55 ETA:   0:17:50\n"
     ]
    },
    {
     "name": "stdout",
     "output_type": "stream",
     "text": [
      "\n",
      "Saved document 2022_2463...\n"
     ]
    },
    {
     "name": "stderr",
     "output_type": "stream",
     "text": [
      " 53% (2465 of 4565) |##########          | Elapsed Time: 0:20:57 ETA:   0:17:51\n"
     ]
    },
    {
     "name": "stdout",
     "output_type": "stream",
     "text": [
      "\n",
      "Saved document 2022_2464...\n"
     ]
    },
    {
     "name": "stderr",
     "output_type": "stream",
     "text": [
      " 54% (2466 of 4565) |##########          | Elapsed Time: 0:20:58 ETA:   0:17:51\n"
     ]
    },
    {
     "name": "stdout",
     "output_type": "stream",
     "text": [
      "\n",
      "Saved document 2022_2465...\n"
     ]
    },
    {
     "name": "stderr",
     "output_type": "stream",
     "text": [
      " 54% (2467 of 4565) |##########          | Elapsed Time: 0:20:59 ETA:   0:17:51\n"
     ]
    },
    {
     "name": "stdout",
     "output_type": "stream",
     "text": [
      "\n",
      "Saved document 2022_2466...\n"
     ]
    },
    {
     "name": "stderr",
     "output_type": "stream",
     "text": [
      " 54% (2468 of 4565) |##########          | Elapsed Time: 0:21:02 ETA:   0:17:52\n"
     ]
    },
    {
     "name": "stdout",
     "output_type": "stream",
     "text": [
      "\n",
      "Saved document 2022_2467...\n"
     ]
    },
    {
     "name": "stderr",
     "output_type": "stream",
     "text": [
      " 54% (2469 of 4565) |##########          | Elapsed Time: 0:21:03 ETA:   0:17:52\n"
     ]
    },
    {
     "name": "stdout",
     "output_type": "stream",
     "text": [
      "\n",
      "Saved document 2022_2468...\n"
     ]
    },
    {
     "name": "stderr",
     "output_type": "stream",
     "text": [
      " 54% (2470 of 4565) |##########          | Elapsed Time: 0:21:04 ETA:   0:17:52\n"
     ]
    },
    {
     "name": "stdout",
     "output_type": "stream",
     "text": [
      "\n",
      "Saved document 2022_2469...\n"
     ]
    },
    {
     "name": "stderr",
     "output_type": "stream",
     "text": [
      " 54% (2471 of 4565) |##########          | Elapsed Time: 0:21:04 ETA:   0:17:51\n"
     ]
    },
    {
     "name": "stdout",
     "output_type": "stream",
     "text": [
      "\n",
      "Saved document 2022_2470...\n"
     ]
    },
    {
     "name": "stderr",
     "output_type": "stream",
     "text": [
      " 54% (2472 of 4565) |##########          | Elapsed Time: 0:21:05 ETA:   0:17:51\n"
     ]
    },
    {
     "name": "stdout",
     "output_type": "stream",
     "text": [
      "\n",
      "Saved document 2022_2471...\n"
     ]
    }
   ],
   "source": [
    "import json\n",
    "import os\n",
    "import time\n",
    "import urllib.request\n",
    "from urllib.error import HTTPError\n",
    "from urllib.parse import urlparse\n",
    "from bs4 import BeautifulSoup\n",
    "import progressbar\n",
    "\n",
    "# Loading links from JSON file\n",
    "with open(r'D:\\Projects\\Virtual_Lawyer\\links_Supreme_Court.json', 'r') as file:\n",
    "    links_json = json.load(file)\n",
    "\n",
    "category = 'Supreme Court of India'\n",
    "category_links = links_json.get(category, [])\n",
    "ndocs = 0\n",
    "\n",
    "\n",
    "output_dir = 'Yearwise_data'\n",
    "if not os.path.exists(output_dir):\n",
    "    os.mkdir(output_dir)\n",
    "\n",
    "print(f\"Started processing {len(category_links)} documents from {category}...\\n\")\n",
    "\n",
    "\n",
    "current_year =  2023\n",
    "tmp = 0\n",
    "\n",
    "\n",
    "with progressbar.ProgressBar(max_value=len(category_links)) as bar:\n",
    "    for i, link in enumerate(category_links):\n",
    "        year = int(link[-4:])\n",
    "        \n",
    "        # Update the year-based folder path and check if it exists\n",
    "        year_dir = os.path.join(output_dir, str(year))\n",
    "        if not os.path.exists(year_dir):\n",
    "            os.makedirs(year_dir)\n",
    "\n",
    "        file_path = os.path.join(year_dir, f\"{year}_{ndocs}\")\n",
    "        \n",
    "        # Skip if file already exists\n",
    "        if os.path.exists(file_path):\n",
    "            print(f\"{file_path} already exists, skipping...\")\n",
    "            ndocs += 1\n",
    "            continue\n",
    "\n",
    "        retry_count = 0\n",
    "        max_retries = 5\n",
    "        while retry_count < max_retries:\n",
    "            try:\n",
    "                headers = {\n",
    "                    'User-Agent': 'Mozilla/5.0 (Windows NT 10.0; Win64; x64) AppleWebKit/537.36 (KHTML, like Gecko) Chrome/58.0.3029.110 Safari/537.3'\n",
    "                }\n",
    "                req = urllib.request.Request(link, headers=headers)\n",
    "                html = urllib.request.urlopen(req).read()\n",
    "                \n",
    "                # Parsing HTML content\n",
    "                soup = BeautifulSoup(html, \"html.parser\")\n",
    "                data_html = soup.find(\"div\", attrs={\"class\": \"judgments\"})\n",
    "                \n",
    "                # Extracting text and save to file\n",
    "                text = data_html.get_text() if data_html else \"\"\n",
    "                with open(file_path, \"w\", encoding=\"utf-8\") as f:\n",
    "                    f.write(text)\n",
    "                \n",
    "                print(f\"\\nSaved document {year}_{ndocs}...\")\n",
    "                ndocs += 1\n",
    "                break  \n",
    "\n",
    "            except HTTPError as e:\n",
    "                if e.code == 429:\n",
    "                    print(\"HTTP 429 Too Many Requests. Retrying...\")\n",
    "                    time.sleep(10)\n",
    "                else:\n",
    "                    print(f\"HTTP error {e.code}: {e}\")\n",
    "                    break  # Breaking if non-recoverable error\n",
    "\n",
    "            except Exception as e:\n",
    "                print(f\"Error: {e}\")\n",
    "                time.sleep(2)  # Short delay for unexpected errors\n",
    "\n",
    "            retry_count += 1\n",
    "\n",
    "        # Updating progress bar\n",
    "        bar.update(i + 1)\n",
    "\n",
    "print(f\"\\nFinished downloading {ndocs} documents.\")\n"
   ]
  },
  {
   "cell_type": "code",
   "execution_count": null,
   "metadata": {},
   "outputs": [],
   "source": []
  }
 ],
 "metadata": {
  "kernelspec": {
   "display_name": "evn1",
   "language": "python",
   "name": "python3"
  },
  "language_info": {
   "codemirror_mode": {
    "name": "ipython",
    "version": 3
   },
   "file_extension": ".py",
   "mimetype": "text/x-python",
   "name": "python",
   "nbconvert_exporter": "python",
   "pygments_lexer": "ipython3",
   "version": "3.12.4"
  }
 },
 "nbformat": 4,
 "nbformat_minor": 2
}
